{
 "cells": [
  {
   "cell_type": "markdown",
   "id": "ca2f80fa",
   "metadata": {},
   "source": [
    "# Auotomated Mail Sender"
   ]
  },
  {
   "cell_type": "markdown",
   "id": "39d5b59f",
   "metadata": {},
   "source": [
    "## A program that send out top 10 rising posts of reddit through mail, every hour\n",
    "\n",
    "1. Type of posts can be customised\n",
    "2. Time interval can be customised as well"
   ]
  },
  {
   "cell_type": "code",
   "execution_count": null,
   "id": "a5a1e38e",
   "metadata": {},
   "outputs": [],
   "source": [
    "# Imporing necessary modules\n",
    "import schedule\n",
    "import time\n",
    "\n",
    "# Defining a function, that runs over and over again.\n",
    "def mailsender():\n",
    "    import pandas as pd\n",
    "    import numpy as np\n",
    "    import praw\n",
    "    import yagmail\n",
    "    \n",
    "    # Scraping reddit data\n",
    "    reddit = praw.Reddit(client_id='<client_id>', \n",
    "                     client_secret='<secret_key>', \n",
    "                     user_agent='scraper_101', \n",
    "                     username='<reddit_user_name>', \n",
    "                     password='<password>')\n",
    "    \n",
    "    no_subreddit = reddit.subreddit('all')\n",
    "    new = no_subreddit.rising(limit=10000)\n",
    "    \n",
    "    dict =        { \"title\":[],\n",
    "                \"subreddit\":[],\n",
    "                \"Upvotes\":[],\n",
    "                \"Upvote_ratio\":[],\n",
    "                \"id\":[], \n",
    "                \"url\":[], \n",
    "                \"comms_num\": [], \n",
    "                \"created\": [], \n",
    "                \"body\":[],\n",
    "                \"NSFW(Not safe for work)\":[] }\n",
    "    \n",
    "    # Organizing data to a dataframe\n",
    "    for submission in new:\n",
    "        dict[\"title\"].append(submission.title)\n",
    "        dict['subreddit'].append(submission.subreddit)\n",
    "        dict[\"Upvotes\"].append(submission.score)\n",
    "        dict[\"id\"].append(submission.id)\n",
    "        dict[\"url\"].append(submission.url)\n",
    "        dict['Upvote_ratio'].append(submission.upvote_ratio)\n",
    "        dict[\"comms_num\"].append(submission.num_comments)\n",
    "        dict[\"created\"].append(submission.created)\n",
    "        dict[\"body\"].append(submission.selftext)\n",
    "        dict[\"NSFW(Not safe for work)\"].append(submission.over_18)\n",
    "        \n",
    "    df = pd.DataFrame(dict)\n",
    "    df.drop_duplicates(subset=['id'], inplace=True)\n",
    "    \n",
    "    # Cleaning data\n",
    "    import datetime as dt\n",
    "    def get_date(created):\n",
    "        return dt.datetime.fromtimestamp(created)\n",
    "    x=[]\n",
    "    for i in df['created']:\n",
    "        x.append(get_date(i))\n",
    "    df['DateTime']=x\n",
    "    df.drop(['created'],axis=1,inplace=True)\n",
    "    \n",
    "    # Sorting required top 10 data, considering below metrics.    \n",
    "    df.sort_values(['Upvotes','Upvote_ratio','DateTime'],ascending=False,inplace=True)\n",
    "    df_top10= df.head(10)\n",
    "    df_mail=df_top10.drop(['id','comms_num','NSFW(Not safe for work)','Upvotes','Upvote_ratio','body'],axis=1)\n",
    "    \n",
    "    # Integrating this to your mail    \n",
    "    user=yagmail.SMTP(user='<mail_id>',password='<password>')\n",
    "    print(user.send(to=['list of mail_IDs'], \\\n",
    "             subject='First automated test email', \\\n",
    "             contents=['Top 10 rising reddit posts that you might like','\\n',df_mail]))\n",
    "    \n",
    "    # Scheduling a timer to time your mails, every 1 hour this case\n",
    "    schedule.every(60).minutes.do(mailsender)\n",
    "    while True:\n",
    "        schedule.run_pending()\n",
    "        time.sleep(60)\n",
    "        \n",
    "print(mailsender())"
   ]
  }
 ],
 "metadata": {
  "kernelspec": {
   "display_name": "Python 3 (ipykernel)",
   "language": "python",
   "name": "python3"
  },
  "language_info": {
   "codemirror_mode": {
    "name": "ipython",
    "version": 3
   },
   "file_extension": ".py",
   "mimetype": "text/x-python",
   "name": "python",
   "nbconvert_exporter": "python",
   "pygments_lexer": "ipython3",
   "version": "3.9.12"
  }
 },
 "nbformat": 4,
 "nbformat_minor": 5
}
